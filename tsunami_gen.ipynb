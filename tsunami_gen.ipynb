{
 "cells": [
  {
   "cell_type": "markdown",
   "id": "56f73314",
   "metadata": {},
   "source": [
    "# Generate tsunami plots and data #"
   ]
  },
  {
   "cell_type": "markdown",
   "id": "2e33c79f",
   "metadata": {},
   "source": [
    "## Set up Jupyter Notebook ##"
   ]
  },
  {
   "cell_type": "code",
   "execution_count": null,
   "id": "906e52da",
   "metadata": {},
   "outputs": [
    {
     "name": "stdout",
     "output_type": "stream",
     "text": [
      "%pylab is deprecated, use %matplotlib inline and import the required libraries.\n",
      "Populating the interactive namespace from numpy and matplotlib\n"
     ]
    }
   ],
   "source": [
    "#set up environment and imported modules\n",
    "import os\n",
    "os.environ['CLAW'] = '/Users/emiddleton/Documents/python/clawpack/clawpack_src/clawpack'\n",
    "os.environ['FC'] = 'gfortran'\n",
    "dir = os.path.join(os.environ['CLAW'], 'geoclaw/examples/hokkaido')\n",
    "\n",
    "%pylab inline\n",
    "\n",
    "from clawpack.clawutil import nbtools\n",
    "from clawpack.visclaw import animation_tools\n",
    "from IPython.display import HTML, Image\n",
    "from clawpack.geoclaw import dtopotools\n",
    "import matplotlib.pyplot as plt\n",
    "plt.rcParams[\"animation.embed_limit\"] = 500 # 20 mb default is too small\n",
    "\n",
    "import numpy as np"
   ]
  },
  {
   "cell_type": "code",
   "execution_count": 39,
   "id": "7295009e",
   "metadata": {},
   "outputs": [],
   "source": [
    "def show_anim(anim):\n",
    "    html_version = HTML(anim.to_jshtml())\n",
    "    # html_version = HTML(anim.to_html5_video())\n",
    "    return html_version"
   ]
  },
  {
   "cell_type": "markdown",
   "id": "69d937d7",
   "metadata": {},
   "source": [
    "## Compile and run Geoclaw Code"
   ]
  },
  {
   "cell_type": "code",
   "execution_count": 13,
   "id": "2b95e20a",
   "metadata": {},
   "outputs": [],
   "source": [
    "nbtools.make_exe(new=True, verbose=False)  # compile xgeoclaw"
   ]
  },
  {
   "cell_type": "code",
   "execution_count": null,
   "id": "3acc56d1",
   "metadata": {},
   "outputs": [],
   "source": [
    "# setrun data\n",
    "# create *.data files from parameters in setrun.py\n",
    "# parameters below are currently the same information as in the setrun file, but added here for easy access/changes\n",
    "from setrun import setrun \n",
    "rundata = setrun()\n",
    "\n",
    "# current refinement parameters\n",
    "rundata.refinement_data.wave_tolerance = 0.02\n",
    "rundata.amrdata.amr_levels_max = 3\n",
    "rundata.amrdata.refinement_ratios_x = [6,8]\n",
    "rundata.amrdata.refinement_ratios_y = [6,8]\n",
    "rundata.amrdata.refinement_ratios_t = [6,8]\n",
    "\n",
    "# regions and gauges\n",
    "rundata.regiondata.regions = []\n",
    "# to specify regions of refinement append lines of the form\n",
    "#  [minlevel,maxlevel,t1,t2,x1,x2,y1,y2]\n",
    "    \n",
    "if 1:\n",
    "    rundata.regiondata.regions.append([1, 1, 0., 1e9, -180,180,-90,90])\n",
    "    rundata.regiondata.regions.append([1, 3, 0., 1e9, 141, 146, 41, 43])\n",
    "    rundata.regiondata.regions.append([3, 3, 0., 1e9, 142, 144, 41.5, 42.5])\n",
    "    rundata.regiondata.regions.append([3, 3, 0., 1e9, 144.5, 145.5, 42.5, 43.5])\n",
    "    #rundata.regiondata.regions.append([3, 3, 0., 1e9, 142, 144, 41, 43])\n",
    "\n",
    "# ---------------\n",
    "# Gauges:\n",
    "# ---------------\n",
    "rundata.gaugedata.gauges = []\n",
    "# # for gauges append lines of the form  [gaugeno, x, y, t1, t2]\n",
    "rundata.gaugedata.gauges.append([129, 142.755637, 42.148995, 0., 1.e10]) # urakawa\n",
    "rundata.gaugedata.gauges.append([111, 144.897712, 42.978294, 0., 1.e10]) # mabiro\n",
    "\n",
    "# If you want to change output times, go to setrun.py, search section Output times:\n",
    "# if you want to change computational domain go to setrun.py, search section Spatial domain:\n",
    "\n",
    "rundata.write()      \n",
    "\n",
    "# in the setrun file, I commented out the line about kml tools so hopefully it will stop generating those\n",
    "# I also changed the topography file from .asc to the curr_topo.tt3 so hopefully that doesn't break anything "
   ]
  },
  {
   "cell_type": "code",
   "execution_count": 41,
   "id": "7c2f18bd",
   "metadata": {},
   "outputs": [
    {
     "name": "stdout",
     "output_type": "stream",
     "text": [
      "*** Note: since grid registration is llcorner,\n",
      "    will shift x,y values by (dx/2, dy/2) to cell centers\n",
      "The extent of the data in longitude and latitude: \n",
      "[np.float64(135.0020833333335), np.float64(151.9979166680265), np.float64(34.5020833333335), np.float64(46.9979166676665)]\n",
      "Using Okada model to create dtopo file\n"
     ]
    }
   ],
   "source": [
    "run maketopo.py  # download the topo file and create the dtopo file"
   ]
  },
  {
   "cell_type": "markdown",
   "id": "a52b4d11",
   "metadata": {},
   "source": [
    "## Output visuals for the dtopo created in maketopo.py"
   ]
  },
  {
   "cell_type": "code",
   "execution_count": null,
   "id": "17149d8c",
   "metadata": {},
   "outputs": [],
   "source": [
    "# copied from maketopo.py and CSZ_example.ipynb\n",
    "\n",
    "fault_geometry_file = os.path.join(dir, 'tok_coords.csv') # finite fault mesh\n",
    "rupture_file = os.path.join(dir, 'tok_rupt_param.csv') # rupture information as [slip, rise, rupt time]\n",
    "\n",
    "fault_mesh = np.loadtxt(fault_geometry_file, delimiter=\",\", skiprows=1) #path, comma separated values, first row is a header\n",
    "fault_mesh[:,[2,5,8]] = 1e3*abs(fault_mesh[:,[2,5,8]]) #array slicing accesses depth element, changing it to be positive m instead of negative km\n",
    "rupture_parameters = np.loadtxt(rupture_file, delimiter=\",\", skiprows=1)\n",
    "\n",
    "# create fault object\n",
    "fault0 = dtopotools.Fault()\n",
    "fault0.subfaults = []\n",
    "fault0.rupture_type = 'kinematic'\n",
    "\n",
    "J = int(np.floor(fault_mesh.shape[0]))\n",
    "\n",
    "# read in sub fault and rupture information\n",
    "for j in range(J):\n",
    "    subfault0 = dtopotools.SubFault()\n",
    "    node1 = fault_mesh[j,0:3].tolist()\n",
    "    node2 = fault_mesh[j,3:6].tolist()\n",
    "    node3 = fault_mesh[j,6:9].tolist()\n",
    "    node_list = [node1,node2,node3]\n",
    "\n",
    "    subfault0.set_corners(node_list,projection_zone='10')\n",
    "    subfault0.rupture_time = rupture_parameters[j,2]\n",
    "    subfault0.rise_time = rupture_parameters[j,1]\n",
    "    subfault0.rake = fault_mesh[j,9]\n",
    "\n",
    "    subfault0.slip = rupture_parameters[j,0]\n",
    "    fault0.subfaults.append(subfault0)\n",
    "\n",
    "print(\"Using Okada model to create dtopo file\")\n",
    "\n",
    "x,y = fault0.create_dtopo_xy(dx = 4/60.) #what is dx?\n",
    "print('Will create dtopo on arrays of shape %i by %i' % (len(x),len(y)))\n",
    "tfinal = max([subfault1.rupture_time + subfault1.rise_time for subfault1 in fault0.subfaults])\n",
    "times0 = np.linspace(0.,tfinal,100)\n",
    "dtopo0 = fault0.create_dtopography(x,y,times=times0,verbose=False);\n",
    "print('Created %s, with dynamic rupture of a Mw %.2f event' % (\"tokachi-oki\", fault0.Mw()))\n",
    "\n",
    "\n",
    "# copied directly from CSZ_example, plots the fault\n",
    "\n",
    "# fig = plt.figure(figsize=(15,10))\n",
    "# #ax = fig.add_subplot(121, projection='3d')\n",
    "# ax = fig.add_axes([.05,.05,.65,.9], projection='3d')\n",
    "# for s in fault0.subfaults:\n",
    "#     c = s.corners #list of 3 nodes\n",
    "#     c.append(c[0]) #does this close a loop or something?\n",
    "#     c = np.array(c)\n",
    "#     ax.plot(c[:,0],c[:,1],-c[:,2]/1000.,color='b') #depth is negative and km (m/1000)\n",
    "# ax.view_init(10,60)\n",
    "# ax.set_xlabel('Longitude')\n",
    "# ax.set_ylabel('Latitude')\n",
    "# ax.set_zlabel('Depth (km)')\n",
    "# ax.set_title('Triangular subfaults')\n",
    "\n",
    "# #ax = fig.add_subplot(122)\n",
    "# ax = fig.add_axes([.75,.05,.2,.9])\n",
    "# for s in fault0.subfaults:\n",
    "#     c = s.corners\n",
    "#     c.append(c[0])\n",
    "#     c = np.array(c)\n",
    "#     ax.plot(c[:,0],c[:,1], 'b')\n",
    "# ax.set_aspect(1./np.cos(45*np.pi/180.))\n",
    "# ax.set_xlabel('Longitude')\n",
    "# ax.set_ylabel('Latitude')\n",
    "# ax.set_title('Plan view')\n",
    "\n",
    "plt.close('all')"
   ]
  },
  {
   "cell_type": "code",
   "execution_count": null,
   "id": "7bdbbf50",
   "metadata": {},
   "outputs": [],
   "source": [
    "# show uplift (copied from CSZ_example.ipynb)\n",
    "\n",
    "plt.close('all')\n",
    "\n",
    "fig,(ax0,ax1,ax2, ax3) = plt.subplots(ncols=4,nrows=1,figsize=(16,6))\n",
    "fault0.plot_subfaults(axes=ax0,slip_color=True,plot_box=False);\n",
    "ax0.set_title('Slip on Fault');\n",
    "\n",
    "X = dtopo0.X; Y = dtopo0.Y; dZ_at_t = dtopo0.dZ_at_t\n",
    "dz_max = dtopo0.dZ.max()\n",
    "\n",
    "t0 = 0.25*tfinal    # time to plot deformation\n",
    "dtopotools.plot_dZ_colors(X,Y,dZ_at_t(t0),axes=ax1, \n",
    "                          cmax_dZ = dz_max, add_colorbar=False);\n",
    "ax1.set_title('Seafloor at time t=' + str(t0));\n",
    "\n",
    "t0 = 0.5*tfinal    # time to plot deformation\n",
    "dtopotools.plot_dZ_colors(X,Y,dZ_at_t(t0),axes=ax2,\n",
    "                          cmax_dZ = dz_max, add_colorbar=False);\n",
    "\n",
    "ax2.set_title('Seafloor at time t=' + str(t0));\n",
    "\n",
    "t0 = tfinal    # time to plot deformation\n",
    "dtopotools.plot_dZ_colors(X,Y,dZ_at_t(t0),axes=ax3,\n",
    "                          cmax_dZ = dz_max, add_colorbar=True);\n",
    "ax3.set_title('Seafloor at time t=' + str(t0));"
   ]
  },
  {
   "cell_type": "code",
   "execution_count": null,
   "id": "3f30867f",
   "metadata": {},
   "outputs": [],
   "source": [
    "#Animate the rupture (from CSZ_example)\n",
    "\n",
    "dz_max = abs(dtopo0.dZ).max()\n",
    "\n",
    "# Incorporate this function in dtopotools to replace animate_dz_colors?\n",
    "def plot_subfaults_dZ(t, fig):\n",
    "    fig.clf()\n",
    "    ax1 = fig.add_subplot(121)\n",
    "    ax2 = fig.add_subplot(122)\n",
    "    fault0.plot_subfaults(axes=ax1, slip_color=True, plot_box=False,\n",
    "                          slip_time=t)\n",
    "    dtopo0.plot_dZ_colors(axes=ax2, t=t, cmax_dZ=dz_max)\n",
    "    return fig\n",
    "\n",
    "figs = []\n",
    "times = dtopo0.times[::5]   # only use every 5th time for animation\n",
    "if dtopo0.times[-1] not in times:\n",
    "    times = np.hstack((times, dtopo0.times[-1]))  # include final dz\n",
    "    \n",
    "print('Animation will include %i times' % len(times))\n",
    "for k,t in enumerate(times):\n",
    "    fig = plt.figure(figsize=(12,5))\n",
    "    plot_subfaults_dZ(t,fig)\n",
    "    figs.append(fig)\n",
    "    plt.close(fig)\n",
    "\n",
    "anim = animation_tools.animate_figs(figs, figsize=(12,6))\n",
    "HTML(anim.to_jshtml())"
   ]
  },
  {
   "cell_type": "markdown",
   "id": "30cd588a",
   "metadata": {},
   "source": [
    "## Generate tsunami animation and plots"
   ]
  },
  {
   "cell_type": "code",
   "execution_count": null,
   "id": "3b1458b1",
   "metadata": {},
   "outputs": [],
   "source": [
    "# function definitions for 'make' subprocesses\n",
    "# function copied and edited from the one given in nbtools.py that wouldn't work right\n",
    "\n",
    "def make_driver(args, env, outfile, verbose):\n",
    "\n",
    "    \"\"\"\n",
    "    Use subprocess to run a make command and capture the output.\n",
    "\n",
    "    :Input:\n",
    "    - *args*: arguments to the make command\n",
    "    - *env*: environment to run in (if None, use *os.environ*)\n",
    "      Useful if $CLAW must be set in notebook.\n",
    "    - *outfile*: file name of file for capturing stdout and stderr\n",
    "    - *verbose*: if True, print out command and display link to output file\n",
    "    \n",
    "    If the return code is non-zero, print a warning and link to output file\n",
    "    regardless of value of *verbose*.\n",
    "\n",
    "    \"\"\"\n",
    "\n",
    "    import subprocess # execute terminal commands in python\n",
    "    import os, sys\n",
    "\n",
    "    if env is None:\n",
    "        env = os.environ\n",
    "\n",
    "    if verbose:\n",
    "        print(\"Executing shell command:   make %s\" % args)\n",
    "        sys.stdout.flush()\n",
    "\n",
    "    ofile = open(outfile,'w')\n",
    "    cmd_list = ['make'] + args.split()\n",
    "\n",
    "    # location of Makefile\n",
    "    directory = '/Users/anitamiddleton/Documents/python/clawpack/clawpack_src/clawpack/geoclaw/examples/hokkaido' \n",
    "    cmd_list.insert(1, \"-C\")\n",
    "    cmd_list.insert(2, directory)\n",
    "\n",
    "    job = subprocess.Popen(cmd_list, stdout=ofile,stderr=ofile,env=env)\n",
    "    return_code = job.wait()\n",
    "    errors = (return_code != 0)\n",
    "    if errors:\n",
    "        print(\"*** Possible errors, return_code = %s\" % return_code)\n",
    "    \n",
    "    if verbose or errors:\n",
    "        local_file = FileLink(outfile)\n",
    "        print(\"Done...  Check this file to see output:\") \n",
    "        display(local_file)\n",
    "\n",
    "def make_plots(label=None, env=None, verbose=True):\n",
    "    \"\"\"Perform 'make plots' and display links\"\"\"\n",
    "\n",
    "    if label is None: \n",
    "        label = ''\n",
    "    else:\n",
    "        if label[0] != '_':\n",
    "            label = '_' + label\n",
    "    #outdir = '_output%s' % str(label)\n",
    "    outdir = '/Users/anitamiddleton/Documents/python/clawpack/clawpack_src/clawpack/geoclaw/examples/hokkaido/_output'\n",
    "    #plotdir = '_plots%s' % str(label)\n",
    "    plotdir = '/Users/anitamiddleton/Documents/python/clawpack/clawpack_src/clawpack/geoclaw/examples/hokkaido/_plots'\n",
    "    outfile = 'plot_output%s.txt' % str(label)\n",
    "\n",
    "    args = '.plots OUTDIR=%s PLOTDIR=%s' % (outdir,plotdir)\n",
    "    #args = '.plots'\n",
    "    make_driver(args, env, outfile, verbose)\n",
    "\n",
    "    if verbose:\n",
    "        index_file = FileLink('%s/_PlotIndex.html' % plotdir)\n",
    "        print(\"View plots created at this link:\")\n",
    "        display(index_file)\n",
    "\n",
    "    return plotdir"
   ]
  },
  {
   "cell_type": "code",
   "execution_count": null,
   "id": "84d82f6f",
   "metadata": {},
   "outputs": [],
   "source": [
    "# run make .plots (LONG RUNTIME)\n",
    "\n",
    "plotdir = make_plots(verbose=False)"
   ]
  },
  {
   "cell_type": "code",
   "execution_count": null,
   "id": "dbb790a0",
   "metadata": {},
   "outputs": [],
   "source": [
    "#plotdir = '/Users/anitamiddleton/Documents/python/clawpack/clawpack_src/clawpack/geoclaw/examples/hokkaido/_plots'\n",
    "anim = animation_tools.animate_from_plotdir(plotdir, figno=0) #figno=1 shows cropped area around hokkaido coastline\n",
    "show_anim(anim) "
   ]
  },
  {
   "cell_type": "markdown",
   "id": "76517f48",
   "metadata": {},
   "source": [
    "### output gauge data"
   ]
  },
  {
   "cell_type": "code",
   "execution_count": null,
   "id": "42e90825",
   "metadata": {},
   "outputs": [],
   "source": [
    "Image('_plots/gauge0129fig300.png', width=400)"
   ]
  },
  {
   "cell_type": "code",
   "execution_count": null,
   "id": "3384a230",
   "metadata": {},
   "outputs": [],
   "source": [
    "Image('_plots/gauge0111fig300.png', width=400)"
   ]
  },
  {
   "cell_type": "code",
   "execution_count": null,
   "id": "2b88ffc6",
   "metadata": {},
   "outputs": [],
   "source": [
    "# Gauge located near Urakawa 142.755637, 42.158995\n",
    "from setplot import setplot\n",
    "plotdata = setplot()\n",
    "plotdata.outdir = '_output'\n",
    "g129 = plotdata.getgauge(129)\n",
    "t = g129.t / 3600.  # convert to hours\n",
    "eta = g129.q[3,:]   # eta = h + B (depth plus bathymetry)\n",
    "plot(t,eta)\n",
    "xlim(0,4)\n",
    "ylim(-3, 3)\n",
    "xlabel('Hours since earthquake')\n",
    "ylabel('meters')\n",
    "title('Sea surface elevation at gauge 129')\n",
    "grid(True)"
   ]
  },
  {
   "cell_type": "code",
   "execution_count": null,
   "id": "04e7cc82",
   "metadata": {},
   "outputs": [],
   "source": [
    "# Gauge located near Mabiro, 144.897712, 42.988294\n",
    "from setplot import setplot\n",
    "plotdata = setplot()\n",
    "plotdata.outdir = '_output'\n",
    "g111 = plotdata.getgauge(111)\n",
    "t = g111.t / 3600.  # convert to hours\n",
    "eta = g111.q[3,:]   # eta = h + B (depth plus bathymetry)\n",
    "plot(t,eta)\n",
    "xlim(0,4)\n",
    "ylim(-1, 1)\n",
    "xlabel('Hours since earthquake')\n",
    "ylabel('meters')\n",
    "title('Sea surface elevation at gauge 111')\n",
    "grid(True)"
   ]
  }
 ],
 "metadata": {
  "kernelspec": {
   "display_name": "clawpack",
   "language": "python",
   "name": "python3"
  },
  "language_info": {
   "codemirror_mode": {
    "name": "ipython",
    "version": 3
   },
   "file_extension": ".py",
   "mimetype": "text/x-python",
   "name": "python",
   "nbconvert_exporter": "python",
   "pygments_lexer": "ipython3",
   "version": "3.9.6"
  }
 },
 "nbformat": 4,
 "nbformat_minor": 5
}
